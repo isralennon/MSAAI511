{
 "cells": [
  {
   "cell_type": "markdown",
   "id": "cd55b339-b438-4535-a271-1b208ff78d40",
   "metadata": {},
   "source": [
    "# Team 1 - Final Project\n",
    "## Israel Romero Olvera\n",
    "#### In this project I'll create a predictive model that will take Midi files from 4 Master composers and classify them by artist name based solely on the musical structure."
   ]
  },
  {
   "cell_type": "code",
   "execution_count": 1,
   "id": "bf6425e2-0c9d-47d6-8be2-83482456987e",
   "metadata": {},
   "outputs": [],
   "source": [
    "#Importing the required libraries\n",
    "import os\n",
    "import numpy as np\n",
    "import random\n",
    "import pandas as pd\n",
    "import pretty_midi\n",
    "import tensorflow as tf\n",
    "from tensorflow.keras import layers, models\n",
    "from tensorflow.keras.layers import BatchNormalization, Bidirectional, LSTM, LayerNormalization\n",
    "from tensorflow.keras.callbacks import EarlyStopping\n",
    "\n",
    "from sklearn.model_selection import train_test_split\n",
    "from sklearn import metrics\n",
    "from sklearn.metrics import accuracy_score, confusion_matrix \n",
    "import seaborn as sns\n",
    "import matplotlib.pyplot as plt"
   ]
  },
  {
   "cell_type": "code",
   "execution_count": 2,
   "id": "848fbf4e-9397-4e52-8943-c38ce60a8686",
   "metadata": {},
   "outputs": [],
   "source": [
    "#Preparing the directories to load the Midi files\n",
    "rootdir=r'C:\\Users\\isral\\AAI_511\\Composer_Dataset\\FinalDataset'"
   ]
  },
  {
   "cell_type": "code",
   "execution_count": 3,
   "id": "b89f407d-3ad9-4d60-a836-ea8bc050be1f",
   "metadata": {},
   "outputs": [],
   "source": [
    "RANDOM_SEED = 75 #Define our random seed for reproducibility\n",
    "os.environ[\"PYTHONHASHSEED\"] = str(RANDOM_SEED)\n",
    "random.seed(RANDOM_SEED)\n",
    "np.random.seed(RANDOM_SEED)\n",
    "tf.random.set_seed(RANDOM_SEED)\n",
    "# Creating a class to handle the MIDI loading\n",
    "class MidiDataset:\n",
    "    def __init__(self, path, num_epochs=10, seq_len=300, fs=10, batch_size=16, allow_repeat=False, verbose=1):\n",
    "        self.path = path #root folder with subfolders for each composer\n",
    "        self.seq_len = seq_len #number of time steps per piano roll\n",
    "        self.fs = fs #frames per second for piano roll\n",
    "        self.train_samples = [] #placeholder for the training sample midi paths\n",
    "        self.train_labels = [] #placeholder for the training labels\n",
    "        self.author_labels_idx = {} #placeholder for the id labels for training\n",
    "        self.test_samples = [] #placeholder for the testing sample midi paths\n",
    "        self.test_labels = [] #placeholder for the testing labels\n",
    "        self.val_samples = [] #placeholder for the validation sample midi paths\n",
    "        self.val_labels = [] #placeholder for the validation labels\n",
    "        self.num_epochs = num_epochs #Setting the number of epochs that our model will use\n",
    "        self.max_samples = 250 #Due to class imbalance, I'm \"downsampling\" by limiting the number of midi files loaded per author\n",
    "        self.batch_size = batch_size #Setting the batch size\n",
    "        self.allow_repeat = allow_repeat #Setting to configure the dataset to allow repeating or not\n",
    "        self.verbose = verbose\n",
    "        self._load_data()\n",
    "    def _load_data(self):\n",
    "        #First, we load all the files in the provided path into the labels and midi sample paths, as well as creating the catalog of author labels\n",
    "        labels, self.author_labels_idx, samples = self.load_path(self.path)\n",
    "        self.plot_authors_distribution(labels, 'All imported midi') #We plot the distribution of melodies per artist\n",
    "        \n",
    "        #Setting other internal values\n",
    "        self.learning_rate = 0.0001 #Establishing the learning rate\n",
    "\n",
    "        #Split into train (80%), \n",
    "        self.train_samples, X_test, self.train_labels, y_test = train_test_split(samples, #Midi sample paths\n",
    "                                                            labels,                        #Author targets\n",
    "                                                            test_size=0.2,            #20% of the data (10% for test, 10% for validation)\n",
    "                                                            random_state=RANDOM_SEED) #Set random seed\n",
    "        #Next, breaking the temp set in half so validation and testing sets end with 10% of the original set each.\n",
    "        self.test_samples, self.val_samples, self.test_labels, self.val_labels = train_test_split(X_test, #Midi sample paths\n",
    "                                                            y_test,                        #Author targets\n",
    "                                                            test_size=0.5,            #50% of the data (10% for test, 10% for validation from original set)\n",
    "                                                            random_state=RANDOM_SEED) #Set random seed\n",
    "        #Next, we prepare the dataset pairs for the model portion\n",
    "        self.train_dataset = self.get_tf_dataset_train(batch_size=self.batch_size, shuffle=True)\n",
    "        self.test_dataset = self.get_tf_dataset_test(batch_size=self.batch_size, shuffle=False)\n",
    "        self.val_dataset = self.get_tf_dataset_val(batch_size=self.batch_size, shuffle=False)\n",
    "        #self.num_samples_train = self.get_num_samples(self.train_dataset)\n",
    "        #self.num_samples_test = self.get_num_samples(self.test_dataset)\n",
    "        #self.num_samples_val = self.get_num_samples(self.val_dataset)\n",
    "        #Let's prepare the Model definition\n",
    "        self.model = self.model_builder()\n",
    "    def plot_authors_distribution(self, train_labels, title):\n",
    "        df = pd.DataFrame(train_labels, columns=['Author'])\n",
    "        df.value_counts().sort_index().plot(kind='bar', title = f'Author sample counts - {title}')\n",
    "        #plt.figure(figsize=(12, 6))\n",
    "        plt.xticks(rotation = 0)\n",
    "        plt.ylabel('Frequency')\n",
    "        plt.xlabel(self.author_labels_idx)\n",
    "        plt.tight_layout()\n",
    "        plt.show()\n",
    "    def load_path(self, path):\n",
    "        labels = []\n",
    "        label_to_idx = {}\n",
    "        samples = []\n",
    "        tmpCount = 0\n",
    "        #First, we load all the subfolders list, which represents the authors list\n",
    "        composer_dirs = [\n",
    "            directory for directory in os.listdir(self.path)\n",
    "            if os.path.isdir(os.path.join(self.path, directory))\n",
    "        ]\n",
    "        #Next, we load each individual midi file\n",
    "        for idx, composer in enumerate(composer_dirs):\n",
    "            label_to_idx[composer] = idx #Here we create a unique ID for each composer\n",
    "            tmpCount = 0\n",
    "            #Now, let's load all individual files in each composer's folder\n",
    "            composer_path = os.path.join(path, composer)\n",
    "            for fname in os.listdir(composer_path):\n",
    "                if fname.endswith('.mid') or fname.endswith('.midi'): #Including any .MID or .MIDI files\n",
    "                    file_path = os.path.join(composer_path, fname)\n",
    "                    #if self.test_midi_file(file_path) == True: #If it's a valid Midi file, we add it. Otherwise, we skip it\n",
    "                    if tmpCount < self.max_samples: #We're limiting the number of samples\n",
    "                        samples.append(file_path)\n",
    "                        labels.append(idx)\n",
    "                    tmpCount=tmpCount+1\n",
    "        return labels, label_to_idx, samples\n",
    "    ##################################### MIDI FUNCTIONS ###########################################################\n",
    "    #This function will convert the midi notes into a piano roll. Only pitch and duration of notes will be preserved, but other attributes like note velocity or midi channel will be lost.\n",
    "    def midi_to_pianoroll(self, midi_path, plot=False):\n",
    "        #Loading the midi file into memory\n",
    "        midi_data = self.load_midi(midi_path)\n",
    "        if not midi_data is None:\n",
    "            #Getting the first frame with a midi note:\n",
    "            first_active_frame = self.get_frame_first_note(midi_data)\n",
    "            #Converting the midi data into a piano roll. By default, the velocity values are preserved\n",
    "            piano_roll = midi_data.get_piano_roll(fs=self.fs)\n",
    "            ##Make sure piano roll is binary: note active (1) or inactive (0), losing the velocity attribute: we just care if the note is on or off.\n",
    "            #piano_roll = (piano_roll > 0).astype(np.float32)\n",
    "            #Normalizing the velocity value by dividing it by 127\n",
    "            piano_roll = piano_roll / 127.0\n",
    "            #Trimming leading silence (anything before the first frame)\n",
    "            piano_roll = piano_roll[:, first_active_frame:]\n",
    "            #Transposing to (time, pitch), as TensorFlow will use the first dimension to establish sequenciality\n",
    "            piano_roll = piano_roll.T\n",
    "    \n",
    "            # Pad or truncate to seq_len, to ensure all tensors are the same length (part of the melody might be lost, but the sample of the song should be good enough for classification.\n",
    "            if piano_roll.shape[0] < self.seq_len:\n",
    "                pad_width = self.seq_len - piano_roll.shape[0]\n",
    "                piano_roll = np.pad(piano_roll, ((0, pad_width), (0, 0)))\n",
    "            else:\n",
    "                piano_roll = piano_roll[:self.seq_len]\n",
    "    \n",
    "            # Keep only 0-127 notes, losing other events like tempo changes, instrument changes, pitch bend, etc.\n",
    "            # NOTE: while foot switch messages get excluded too, the note duration is preserved in the piano roll as the note state is captured as \"ON\" by PrettyMIDI.\n",
    "            piano_roll = piano_roll[:, :128]\n",
    "            if plot==True:\n",
    "                self.plot_piano_roll(piano_roll, f'Piano Roll for file {midi_path}')\n",
    "            return piano_roll\n",
    "        else:\n",
    "            return None\n",
    "    #Creating this function to visually represent a piano roll of a sample\n",
    "    def plot_piano_roll(self, piano_roll, title=\"Piano Roll\", save_path=None):\n",
    "        time_steps = piano_roll.shape[0] #Getting the timesteps from the piano roll dynamically\n",
    "        duration = time_steps / self.fs  #number of seconds\n",
    "        time_axis = np.linspace(0, duration, time_steps)\n",
    "        print(f'Time Steps: {time_steps}, Frames per Second: {self.fs} Duration: {duration} s')\n",
    "        plt.figure(figsize=(12, 6))\n",
    "        plt.imshow(piano_roll.T, aspect='auto', origin='lower', \n",
    "                   extent=[0, duration, 0, 128], cmap='gray_r')\n",
    "        plt.xlabel('Time (s)')\n",
    "        plt.ylabel('MIDI Note')\n",
    "        plt.title(title)\n",
    "        plt.tight_layout()\n",
    "        #If specified where to save the image, proceed saving it. Else, show plot it instead.\n",
    "        if save_path:\n",
    "            plt.savefig(save_path)\n",
    "        else:\n",
    "            plt.show()\n",
    "    def load_midi(self, midi_path):\n",
    "        try:\n",
    "            return pretty_midi.PrettyMIDI(midi_path)\n",
    "        except Exception as e:\n",
    "            print(f\"⚠️ Skipping {midi_path}: {e}\")\n",
    "            return None\n",
    "    def get_frame_first_note(self, midi_content):\n",
    "        #Get all note start times\n",
    "        note_start_times = [note.start for instrument in midi_content.instruments for note in instrument.notes]\n",
    "        #Get the first note time\n",
    "        first_note_time = min(note_start_times)\n",
    "        #Calculate the frame in which the note shows up\n",
    "        first_frame = int(first_note_time * self.fs)\n",
    "        #Return the first frame\n",
    "        return first_frame\n",
    "    def generator(self, samples, labels):\n",
    "        #for midi_path, label in zip(self.train_samples, self.train_labels):\n",
    "        for midi_path, label in zip(samples, labels):\n",
    "            piano_roll = self.midi_to_pianoroll(midi_path)\n",
    "            yield piano_roll, label\n",
    "    #This function builds the TensorFlow dataset\n",
    "    def get_tf_dataset(self, samples, labels, batch_size=16, shuffle=True):\n",
    "        output_signature = (\n",
    "            tf.TensorSpec(shape=(self.seq_len, 128), dtype=tf.float32),\n",
    "            tf.TensorSpec(shape=(), dtype=tf.int32)\n",
    "        )\n",
    "        dataset = tf.data.Dataset.from_generator(\n",
    "            lambda: self.generator(samples, labels),\n",
    "            output_signature=output_signature\n",
    "        )\n",
    "        #The shuffle parameter will help the Neural Network training by shuffling the sample's order, preventing the model from seeing samples in the same order every epoch\n",
    "        if shuffle:\n",
    "            dataset = dataset.shuffle(buffer_size=len(samples))\n",
    "            #dataset = dataset.repeat() #Preparing the dataset to be repeated indefinitely during epochs\n",
    "            #dataset = dataset.shuffle(buffer_size=len(self.train_samples))\n",
    "        dataset = dataset.batch(batch_size) #Preparing the dataset in the specified batches\n",
    "        dataset = dataset.prefetch(tf.data.AUTOTUNE)\n",
    "        return dataset\n",
    "    def get_tf_dataset_train(self, batch_size=16, shuffle=True):\n",
    "        return self.get_tf_dataset(self.train_samples, self.train_labels, batch_size, shuffle)\n",
    "    def get_tf_dataset_test(self, batch_size=16, shuffle=False):\n",
    "        return self.get_tf_dataset(self.test_samples, self.test_labels, batch_size, shuffle)\n",
    "    def get_tf_dataset_val(self, batch_size=16, shuffle=False):\n",
    "        return self.get_tf_dataset(self.val_samples, self.val_labels, batch_size, shuffle)\n",
    "    def test_midi_file(self, file):\n",
    "        tmpOpen = self.load_midi(file)\n",
    "        if tmpOpen == None:\n",
    "            return False\n",
    "        return True\n",
    "    #################################################### MODEL FUNCTIONS #######################################################\n",
    "    def model_builder(self):\n",
    "        #This function will implement the architecture selected as parameter for the class\n",
    "        n_classes = len(self.author_labels_idx)\n",
    "        model = models.Sequential([\n",
    "            layers.Input(shape=(self.seq_len, 128)),\n",
    "    \n",
    "            #CNN block: extract short-term temporal & note patterns\n",
    "            layers.Conv1D(filters=64, kernel_size=9, dilation_rate=2, activation='relu', padding='same'),\n",
    "            layers.MaxPooling1D(pool_size=4), #Since my sequence is long, I'm downsampling it by a factor of 4\n",
    "            #To improve efficiency, we'll normalize the activations.\n",
    "            #BatchNormalization(),\n",
    "            LayerNormalization(),\n",
    "            layers.Dropout(0.1),\n",
    "\n",
    "            #Second CNN layer\n",
    "            layers.Conv1D(filters=128, kernel_size=3, dilation_rate=2, activation='relu', padding='same'),\n",
    "            layers.MaxPooling1D(pool_size=3), #Now we will downsample the next layer by a factor of 3\n",
    "            #To improve efficiency, we'll normalize the activations.\n",
    "            #BatchNormalization(),\n",
    "            LayerNormalization(),\n",
    "            layers.Dropout(0.1),\n",
    "\n",
    "            #Third CNN layer\n",
    "            #layers.Conv1D(filters=256, kernel_size=3, dilation_rate=2, activation='relu', padding='same'),\n",
    "            #layers.MaxPooling1D(pool_size=2),\n",
    "            #To improve efficiency, we'll normalize the activations.\n",
    "            #LayerNormalization(),\n",
    "            #layers.Dropout(0.3),\n",
    "\n",
    "            #LSTM layer: this will extract the patterns from the midi samples\n",
    "            #layers.LSTM(128, return_sequences=True),  #First LSTM\n",
    "            Bidirectional(layers.LSTM(256, return_sequences=True)),  #First LSTM\n",
    "            Bidirectional(layers.LSTM(128, return_sequences=True)),  #Second LSTM\n",
    "            Bidirectional(layers.LSTM(64, return_sequences=False)), #Second LSTM\n",
    "    \n",
    "            # Fully connected classification head\n",
    "            layers.Dense(64, activation='linear'),\n",
    "            layers.Dropout(0.3),\n",
    "            layers.Dense(n_classes, activation='softmax')\n",
    "        ])\n",
    "        return model\n",
    "    def train(self):\n",
    "        #In this method, the class will compile the model and train it using the training set, returning the evaluation metrics.\n",
    "        self.model.compile(loss='sparse_categorical_crossentropy', optimizer=tf.keras.optimizers.Adam(learning_rate=self.learning_rate), metrics=['accuracy'])\n",
    "        #Next, print the model summary\n",
    "        self.model.summary()\n",
    "\n",
    "        #Calculating the values for the epoch and validation steps\n",
    "        train_steps = len(self.train_samples) // self.batch_size\n",
    "        val_steps = len(self.val_samples) // self.batch_size\n",
    "        \n",
    "        #Preparing the Early Stopping if needed\n",
    "        early_stopping = EarlyStopping(monitor='val_loss', patience=2, restore_best_weights=True)\n",
    "\n",
    "        #Now, calculating the history after fitting the model with the training set\n",
    "        history = self.model.fit(\n",
    "            self.train_dataset,\n",
    "            validation_data=self.val_dataset,\n",
    "            epochs=self.num_epochs,\n",
    "            steps_per_epoch=train_steps,\n",
    "            #batch_size=self.batch_size,\n",
    "            validation_steps=val_steps,\n",
    "            callbacks=[early_stopping],\n",
    "            verbose=self.verbose\n",
    "        )\n",
    "        return self.evaluate(self.train_dataset, 'Training Dataset')\n",
    "\n",
    "    def predict(self, dataset):\n",
    "        #This method allows the model to predict the target outputs for the input X\n",
    "        predictions = self.model.predict(dataset) #We execute and store the predictions\n",
    "        predicted_labels = np.argmax(predictions, axis=1)\n",
    "        return predicted_labels\n",
    "    def test(self):\n",
    "        #This method evaluates the predictions built with the testing set\n",
    "        return self.evaluate(self.test_dataset, 'Testing Dataset')\n",
    "\n",
    "    def evaluate(self, dataset, title=''):\n",
    "        #This method evaluates the performance of the ANN with the selected parameters\n",
    "        pred_labels = self.predict(dataset) #First, we perform the predictions\n",
    "        true_labels = []\n",
    "        #Next, we'll get the true labels directly from the dataset, which contains the tensor-label pair\n",
    "        for _, label_batch in dataset:\n",
    "            true_labels.extend(label_batch.numpy())\n",
    "        true_labels = np.array(true_labels)\n",
    "        #Then, we used the actual values and predicted values to calculate all metrics\n",
    "        accuracy = accuracy_score(true_labels, pred_labels)\n",
    "        if not title == '':\n",
    "            self.print_confusion_matrix(true_labels, pred_labels, title)\n",
    "        #precision = precision_score(y, y_pred, average='weighted', zero_division=0)\n",
    "        #recall = recall_score(y, y_pred, average='weighted')\n",
    "        #f1 = f1_score(y, y_pred, average='weighted')\n",
    "        #rocauc = roc_auc_score(y, y_pred)\n",
    "        #Finally, we return the metrics\n",
    "        #return np.round((accuracy, precision, recall, f1, rocauc), decimals=2)\n",
    "        return np.round(accuracy, decimals=2)\n",
    "    def get_num_samples(self, dataset):\n",
    "        sample_count = sum(1 for _ in dataset)\n",
    "        return sample_count\n",
    "    def print_num_samples(self):\n",
    "        print(f'Training samples: {self.num_samples_train}, Testing samples: {self.num_samples_test}, Val samples: {self.num_samples_val}.')\n",
    "    def print_confusion_matrix(self, true_labels, predicted_labels, title):\n",
    "        cm = confusion_matrix(true_labels, predicted_labels)\n",
    "        sns.heatmap(cm, annot=True, fmt='d', xticklabels=self.author_labels_idx.keys(), yticklabels=self.author_labels_idx.keys())\n",
    "        plt.xlabel('Predicted')\n",
    "        plt.ylabel('True')\n",
    "        plt.title(f'Confusion Matrix - {title}')\n",
    "        plt.show()"
   ]
  },
  {
   "cell_type": "code",
   "execution_count": 4,
   "id": "47c6928a-21e1-47c8-9a9f-a1f0d4c42590",
   "metadata": {},
   "outputs": [
    {
     "data": {
      "image/png": "[encoded data removed]",
      "text/plain": [
       "<Figure size 640x480 with 1 Axes>"
      ]
     },
     "metadata": {},
     "output_type": "display_data"
    }
   ],
   "source": [
    "#For the model, I'll use 15 epochs, a frequency of 40 frames per second, and a duration of 60 seconds, which at 40 fps would be 2400 frames\n",
    "midi_model = MidiDataset(path=rootdir, num_epochs=15, seq_len=600, fs=10, batch_size=16, allow_repeat=False, verbose=1)"
   ]
  },
  {
   "cell_type": "code",
   "execution_count": 5,
   "id": "f10586d2-5066-4a31-aa8b-2a54b38f982e",
   "metadata": {},
   "outputs": [
    {
     "name": "stdout",
     "output_type": "stream",
     "text": [
      "Time Steps: 600, Frames per Second: 10 Duration: 60.0 s\n"
     ]
    },
    {
     "data": {
      "image/png": "[encoded data removed]",
      "text/plain": [
       "<Figure size 1200x600 with 1 Axes>"
      ]
     },
     "metadata": {},
     "output_type": "display_data"
    },
    {
     "data": {
      "text/plain": [
       "array([[0., 0., 0., ..., 0., 0., 0.],\n",
       "       [0., 0., 0., ..., 0., 0., 0.],\n",
       "       [0., 0., 0., ..., 0., 0., 0.],\n",
       "       ...,\n",
       "       [0., 0., 0., ..., 0., 0., 0.],\n",
       "       [0., 0., 0., ..., 0., 0., 0.],\n",
       "       [0., 0., 0., ..., 0., 0., 0.]])"
      ]
     },
     "execution_count": 5,
     "metadata": {},
     "output_type": "execute_result"
    }
   ],
   "source": [
    "#Plotting a Piano Roll\n",
    "midi_model.midi_to_pianoroll(midi_model.val_samples[0], plot=True)"
   ]
  },
  {
   "cell_type": "code",
   "execution_count": 6,
   "id": "6a1dc3ba-4b09-490a-9edd-268e312d526b",
   "metadata": {},
   "outputs": [
    {
     "data": {
      "text/html": [
       "<pre style=\"white-space:pre;overflow-x:auto;line-height:normal;font-family:Menlo,'DejaVu Sans Mono',consolas,'Courier New',monospace\"><span style=\"font-weight: bold\">Model: \"sequential\"</span>\n",
       "</pre>\n"
      ],
      "text/plain": [
       "\u001b[1mModel: \"sequential\"\u001b[0m\n"
      ]
     },
     "metadata": {},
     "output_type": "display_data"
    },
    {
     "data": {
      "text/html": [
       "<pre style=\"white-space:pre;overflow-x:auto;line-height:normal;font-family:Menlo,'DejaVu Sans Mono',consolas,'Courier New',monospace\">┏━━━━━━━━━━━━━━━━━━━━━━━━━━━━━━━━━┳━━━━━━━━━━━━━━━━━━━━━━━━┳━━━━━━━━━━━━━━━┓\n",
       "┃<span style=\"font-weight: bold\"> Layer (type)                    </span>┃<span style=\"font-weight: bold\"> Output Shape           </span>┃<span style=\"font-weight: bold\">       Param # </span>┃\n",
       "┡━━━━━━━━━━━━━━━━━━━━━━━━━━━━━━━━━╇━━━━━━━━━━━━━━━━━━━━━━━━╇━━━━━━━━━━━━━━━┩\n",
       "│ conv1d (<span style=\"color: #0087ff; text-decoration-color: #0087ff\">Conv1D</span>)                 │ (<span style=\"color: #00d7ff; text-decoration-color: #00d7ff\">None</span>, <span style=\"color: #00af00; text-decoration-color: #00af00\">600</span>, <span style=\"color: #00af00; text-decoration-color: #00af00\">64</span>)        │        <span style=\"color: #00af00; text-decoration-color: #00af00\">73,792</span> │\n",
       "├─────────────────────────────────┼────────────────────────┼───────────────┤\n",
       "│ max_pooling1d (<span style=\"color: #0087ff; text-decoration-color: #0087ff\">MaxPooling1D</span>)    │ (<span style=\"color: #00d7ff; text-decoration-color: #00d7ff\">None</span>, <span style=\"color: #00af00; text-decoration-color: #00af00\">150</span>, <span style=\"color: #00af00; text-decoration-color: #00af00\">64</span>)        │             <span style=\"color: #00af00; text-decoration-color: #00af00\">0</span> │\n",
       "├─────────────────────────────────┼────────────────────────┼───────────────┤\n",
       "│ layer_normalization             │ (<span style=\"color: #00d7ff; text-decoration-color: #00d7ff\">None</span>, <span style=\"color: #00af00; text-decoration-color: #00af00\">150</span>, <span style=\"color: #00af00; text-decoration-color: #00af00\">64</span>)        │           <span style=\"color: #00af00; text-decoration-color: #00af00\">128</span> │\n",
       "│ (<span style=\"color: #0087ff; text-decoration-color: #0087ff\">LayerNormalization</span>)            │                        │               │\n",
       "├─────────────────────────────────┼────────────────────────┼───────────────┤\n",
       "│ dropout (<span style=\"color: #0087ff; text-decoration-color: #0087ff\">Dropout</span>)               │ (<span style=\"color: #00d7ff; text-decoration-color: #00d7ff\">None</span>, <span style=\"color: #00af00; text-decoration-color: #00af00\">150</span>, <span style=\"color: #00af00; text-decoration-color: #00af00\">64</span>)        │             <span style=\"color: #00af00; text-decoration-color: #00af00\">0</span> │\n",
       "├─────────────────────────────────┼────────────────────────┼───────────────┤\n",
       "│ conv1d_1 (<span style=\"color: #0087ff; text-decoration-color: #0087ff\">Conv1D</span>)               │ (<span style=\"color: #00d7ff; text-decoration-color: #00d7ff\">None</span>, <span style=\"color: #00af00; text-decoration-color: #00af00\">150</span>, <span style=\"color: #00af00; text-decoration-color: #00af00\">128</span>)       │        <span style=\"color: #00af00; text-decoration-color: #00af00\">24,704</span> │\n",
       "├─────────────────────────────────┼────────────────────────┼───────────────┤\n",
       "│ max_pooling1d_1 (<span style=\"color: #0087ff; text-decoration-color: #0087ff\">MaxPooling1D</span>)  │ (<span style=\"color: #00d7ff; text-decoration-color: #00d7ff\">None</span>, <span style=\"color: #00af00; text-decoration-color: #00af00\">50</span>, <span style=\"color: #00af00; text-decoration-color: #00af00\">128</span>)        │             <span style=\"color: #00af00; text-decoration-color: #00af00\">0</span> │\n",
       "├─────────────────────────────────┼────────────────────────┼───────────────┤\n",
       "│ layer_normalization_1           │ (<span style=\"color: #00d7ff; text-decoration-color: #00d7ff\">None</span>, <span style=\"color: #00af00; text-decoration-color: #00af00\">50</span>, <span style=\"color: #00af00; text-decoration-color: #00af00\">128</span>)        │           <span style=\"color: #00af00; text-decoration-color: #00af00\">256</span> │\n",
       "│ (<span style=\"color: #0087ff; text-decoration-color: #0087ff\">LayerNormalization</span>)            │                        │               │\n",
       "├─────────────────────────────────┼────────────────────────┼───────────────┤\n",
       "│ dropout_1 (<span style=\"color: #0087ff; text-decoration-color: #0087ff\">Dropout</span>)             │ (<span style=\"color: #00d7ff; text-decoration-color: #00d7ff\">None</span>, <span style=\"color: #00af00; text-decoration-color: #00af00\">50</span>, <span style=\"color: #00af00; text-decoration-color: #00af00\">128</span>)        │             <span style=\"color: #00af00; text-decoration-color: #00af00\">0</span> │\n",
       "├─────────────────────────────────┼────────────────────────┼───────────────┤\n",
       "│ dense (<span style=\"color: #0087ff; text-decoration-color: #0087ff\">Dense</span>)                   │ (<span style=\"color: #00d7ff; text-decoration-color: #00d7ff\">None</span>, <span style=\"color: #00af00; text-decoration-color: #00af00\">50</span>, <span style=\"color: #00af00; text-decoration-color: #00af00\">64</span>)         │         <span style=\"color: #00af00; text-decoration-color: #00af00\">8,256</span> │\n",
       "├─────────────────────────────────┼────────────────────────┼───────────────┤\n",
       "│ dropout_2 (<span style=\"color: #0087ff; text-decoration-color: #0087ff\">Dropout</span>)             │ (<span style=\"color: #00d7ff; text-decoration-color: #00d7ff\">None</span>, <span style=\"color: #00af00; text-decoration-color: #00af00\">50</span>, <span style=\"color: #00af00; text-decoration-color: #00af00\">64</span>)         │             <span style=\"color: #00af00; text-decoration-color: #00af00\">0</span> │\n",
       "├─────────────────────────────────┼────────────────────────┼───────────────┤\n",
       "│ dense_1 (<span style=\"color: #0087ff; text-decoration-color: #0087ff\">Dense</span>)                 │ (<span style=\"color: #00d7ff; text-decoration-color: #00d7ff\">None</span>, <span style=\"color: #00af00; text-decoration-color: #00af00\">50</span>, <span style=\"color: #00af00; text-decoration-color: #00af00\">4</span>)          │           <span style=\"color: #00af00; text-decoration-color: #00af00\">260</span> │\n",
       "└─────────────────────────────────┴────────────────────────┴───────────────┘\n",
       "</pre>\n"
      ],
      "text/plain": [
       "┏━━━━━━━━━━━━━━━━━━━━━━━━━━━━━━━━━┳━━━━━━━━━━━━━━━━━━━━━━━━┳━━━━━━━━━━━━━━━┓\n",
       "┃\u001b[1m \u001b[0m\u001b[1mLayer (type)                   \u001b[0m\u001b[1m \u001b[0m┃\u001b[1m \u001b[0m\u001b[1mOutput Shape          \u001b[0m\u001b[1m \u001b[0m┃\u001b[1m \u001b[0m\u001b[1m      Param #\u001b[0m\u001b[1m \u001b[0m┃\n",
       "┡━━━━━━━━━━━━━━━━━━━━━━━━━━━━━━━━━╇━━━━━━━━━━━━━━━━━━━━━━━━╇━━━━━━━━━━━━━━━┩\n",
       "│ conv1d (\u001b[38;5;33mConv1D\u001b[0m)                 │ (\u001b[38;5;45mNone\u001b[0m, \u001b[38;5;34m600\u001b[0m, \u001b[38;5;34m64\u001b[0m)        │        \u001b[38;5;34m73,792\u001b[0m │\n",
       "├─────────────────────────────────┼────────────────────────┼───────────────┤\n",
       "│ max_pooling1d (\u001b[38;5;33mMaxPooling1D\u001b[0m)    │ (\u001b[38;5;45mNone\u001b[0m, \u001b[38;5;34m150\u001b[0m, \u001b[38;5;34m64\u001b[0m)        │             \u001b[38;5;34m0\u001b[0m │\n",
       "├─────────────────────────────────┼────────────────────────┼───────────────┤\n",
       "│ layer_normalization             │ (\u001b[38;5;45mNone\u001b[0m, \u001b[38;5;34m150\u001b[0m, \u001b[38;5;34m64\u001b[0m)        │           \u001b[38;5;34m128\u001b[0m │\n",
       "│ (\u001b[38;5;33mLayerNormalization\u001b[0m)            │                        │               │\n",
       "├─────────────────────────────────┼────────────────────────┼───────────────┤\n",
       "│ dropout (\u001b[38;5;33mDropout\u001b[0m)               │ (\u001b[38;5;45mNone\u001b[0m, \u001b[38;5;34m150\u001b[0m, \u001b[38;5;34m64\u001b[0m)        │             \u001b[38;5;34m0\u001b[0m │\n",
       "├─────────────────────────────────┼────────────────────────┼───────────────┤\n",
       "│ conv1d_1 (\u001b[38;5;33mConv1D\u001b[0m)               │ (\u001b[38;5;45mNone\u001b[0m, \u001b[38;5;34m150\u001b[0m, \u001b[38;5;34m128\u001b[0m)       │        \u001b[38;5;34m24,704\u001b[0m │\n",
       "├─────────────────────────────────┼────────────────────────┼───────────────┤\n",
       "│ max_pooling1d_1 (\u001b[38;5;33mMaxPooling1D\u001b[0m)  │ (\u001b[38;5;45mNone\u001b[0m, \u001b[38;5;34m50\u001b[0m, \u001b[38;5;34m128\u001b[0m)        │             \u001b[38;5;34m0\u001b[0m │\n",
       "├─────────────────────────────────┼────────────────────────┼───────────────┤\n",
       "│ layer_normalization_1           │ (\u001b[38;5;45mNone\u001b[0m, \u001b[38;5;34m50\u001b[0m, \u001b[38;5;34m128\u001b[0m)        │           \u001b[38;5;34m256\u001b[0m │\n",
       "│ (\u001b[38;5;33mLayerNormalization\u001b[0m)            │                        │               │\n",
       "├─────────────────────────────────┼────────────────────────┼───────────────┤\n",
       "│ dropout_1 (\u001b[38;5;33mDropout\u001b[0m)             │ (\u001b[38;5;45mNone\u001b[0m, \u001b[38;5;34m50\u001b[0m, \u001b[38;5;34m128\u001b[0m)        │             \u001b[38;5;34m0\u001b[0m │\n",
       "├─────────────────────────────────┼────────────────────────┼───────────────┤\n",
       "│ dense (\u001b[38;5;33mDense\u001b[0m)                   │ (\u001b[38;5;45mNone\u001b[0m, \u001b[38;5;34m50\u001b[0m, \u001b[38;5;34m64\u001b[0m)         │         \u001b[38;5;34m8,256\u001b[0m │\n",
       "├─────────────────────────────────┼────────────────────────┼───────────────┤\n",
       "│ dropout_2 (\u001b[38;5;33mDropout\u001b[0m)             │ (\u001b[38;5;45mNone\u001b[0m, \u001b[38;5;34m50\u001b[0m, \u001b[38;5;34m64\u001b[0m)         │             \u001b[38;5;34m0\u001b[0m │\n",
       "├─────────────────────────────────┼────────────────────────┼───────────────┤\n",
       "│ dense_1 (\u001b[38;5;33mDense\u001b[0m)                 │ (\u001b[38;5;45mNone\u001b[0m, \u001b[38;5;34m50\u001b[0m, \u001b[38;5;34m4\u001b[0m)          │           \u001b[38;5;34m260\u001b[0m │\n",
       "└─────────────────────────────────┴────────────────────────┴───────────────┘\n"
      ]
     },
     "metadata": {},
     "output_type": "display_data"
    },
    {
     "data": {
      "text/html": [
       "<pre style=\"white-space:pre;overflow-x:auto;line-height:normal;font-family:Menlo,'DejaVu Sans Mono',consolas,'Courier New',monospace\"><span style=\"font-weight: bold\"> Total params: </span><span style=\"color: #00af00; text-decoration-color: #00af00\">107,396</span> (419.52 KB)\n",
       "</pre>\n"
      ],
      "text/plain": [
       "\u001b[1m Total params: \u001b[0m\u001b[38;5;34m107,396\u001b[0m (419.52 KB)\n"
      ]
     },
     "metadata": {},
     "output_type": "display_data"
    },
    {
     "data": {
      "text/html": [
       "<pre style=\"white-space:pre;overflow-x:auto;line-height:normal;font-family:Menlo,'DejaVu Sans Mono',consolas,'Courier New',monospace\"><span style=\"font-weight: bold\"> Trainable params: </span><span style=\"color: #00af00; text-decoration-color: #00af00\">107,396</span> (419.52 KB)\n",
       "</pre>\n"
      ],
      "text/plain": [
       "\u001b[1m Trainable params: \u001b[0m\u001b[38;5;34m107,396\u001b[0m (419.52 KB)\n"
      ]
     },
     "metadata": {},
     "output_type": "display_data"
    },
    {
     "data": {
      "text/html": [
       "<pre style=\"white-space:pre;overflow-x:auto;line-height:normal;font-family:Menlo,'DejaVu Sans Mono',consolas,'Courier New',monospace\"><span style=\"font-weight: bold\"> Non-trainable params: </span><span style=\"color: #00af00; text-decoration-color: #00af00\">0</span> (0.00 B)\n",
       "</pre>\n"
      ],
      "text/plain": [
       "\u001b[1m Non-trainable params: \u001b[0m\u001b[38;5;34m0\u001b[0m (0.00 B)\n"
      ]
     },
     "metadata": {},
     "output_type": "display_data"
    },
    {
     "name": "stdout",
     "output_type": "stream",
     "text": [
      "Epoch 1/15\n"
     ]
    },
    {
     "ename": "ValueError",
     "evalue": "Argument `output` must have rank (ndim) `target.ndim - 1`. Received: target.shape=(None,), output.shape=(None, 50, 4)",
     "output_type": "error",
     "traceback": [
      "\u001b[1;31m---------------------------------------------------------------------------\u001b[0m",
      "\u001b[1;31mValueError\u001b[0m                                Traceback (most recent call last)",
      "Cell \u001b[1;32mIn[6], line 1\u001b[0m\n\u001b[1;32m----> 1\u001b[0m training_accuracy \u001b[38;5;241m=\u001b[39m midi_model\u001b[38;5;241m.\u001b[39mtrain()\n",
      "Cell \u001b[1;32mIn[3], line 243\u001b[0m, in \u001b[0;36mMidiDataset.train\u001b[1;34m(self)\u001b[0m\n\u001b[0;32m    240\u001b[0m early_stopping \u001b[38;5;241m=\u001b[39m EarlyStopping(monitor\u001b[38;5;241m=\u001b[39m\u001b[38;5;124m'\u001b[39m\u001b[38;5;124mval_loss\u001b[39m\u001b[38;5;124m'\u001b[39m, patience\u001b[38;5;241m=\u001b[39m\u001b[38;5;241m2\u001b[39m, restore_best_weights\u001b[38;5;241m=\u001b[39m\u001b[38;5;28;01mTrue\u001b[39;00m)\n\u001b[0;32m    242\u001b[0m \u001b[38;5;66;03m#Now, calculating the history after fitting the model with the training set\u001b[39;00m\n\u001b[1;32m--> 243\u001b[0m history \u001b[38;5;241m=\u001b[39m \u001b[38;5;28mself\u001b[39m\u001b[38;5;241m.\u001b[39mmodel\u001b[38;5;241m.\u001b[39mfit(\n\u001b[0;32m    244\u001b[0m     \u001b[38;5;28mself\u001b[39m\u001b[38;5;241m.\u001b[39mtrain_dataset,\n\u001b[0;32m    245\u001b[0m     validation_data\u001b[38;5;241m=\u001b[39m\u001b[38;5;28mself\u001b[39m\u001b[38;5;241m.\u001b[39mval_dataset,\n\u001b[0;32m    246\u001b[0m     epochs\u001b[38;5;241m=\u001b[39m\u001b[38;5;28mself\u001b[39m\u001b[38;5;241m.\u001b[39mnum_epochs,\n\u001b[0;32m    247\u001b[0m     steps_per_epoch\u001b[38;5;241m=\u001b[39mtrain_steps,\n\u001b[0;32m    248\u001b[0m     \u001b[38;5;66;03m#batch_size=self.batch_size,\u001b[39;00m\n\u001b[0;32m    249\u001b[0m     validation_steps\u001b[38;5;241m=\u001b[39mval_steps,\n\u001b[0;32m    250\u001b[0m     callbacks\u001b[38;5;241m=\u001b[39m[early_stopping],\n\u001b[0;32m    251\u001b[0m     verbose\u001b[38;5;241m=\u001b[39m\u001b[38;5;28mself\u001b[39m\u001b[38;5;241m.\u001b[39mverbose\n\u001b[0;32m    252\u001b[0m )\n\u001b[0;32m    253\u001b[0m \u001b[38;5;28;01mreturn\u001b[39;00m \u001b[38;5;28mself\u001b[39m\u001b[38;5;241m.\u001b[39mevaluate(\u001b[38;5;28mself\u001b[39m\u001b[38;5;241m.\u001b[39mtrain_dataset, \u001b[38;5;124m'\u001b[39m\u001b[38;5;124mTraining Dataset\u001b[39m\u001b[38;5;124m'\u001b[39m)\n",
      "File \u001b[1;32m~\\.conda\\envs\\IRO\\Lib\\site-packages\\keras\\src\\utils\\traceback_utils.py:122\u001b[0m, in \u001b[0;36mfilter_traceback.<locals>.error_handler\u001b[1;34m(*args, **kwargs)\u001b[0m\n\u001b[0;32m    119\u001b[0m     filtered_tb \u001b[38;5;241m=\u001b[39m _process_traceback_frames(e\u001b[38;5;241m.\u001b[39m__traceback__)\n\u001b[0;32m    120\u001b[0m     \u001b[38;5;66;03m# To get the full stack trace, call:\u001b[39;00m\n\u001b[0;32m    121\u001b[0m     \u001b[38;5;66;03m# `keras.config.disable_traceback_filtering()`\u001b[39;00m\n\u001b[1;32m--> 122\u001b[0m     \u001b[38;5;28;01mraise\u001b[39;00m e\u001b[38;5;241m.\u001b[39mwith_traceback(filtered_tb) \u001b[38;5;28;01mfrom\u001b[39;00m \u001b[38;5;28;01mNone\u001b[39;00m\n\u001b[0;32m    123\u001b[0m \u001b[38;5;28;01mfinally\u001b[39;00m:\n\u001b[0;32m    124\u001b[0m     \u001b[38;5;28;01mdel\u001b[39;00m filtered_tb\n",
      "File \u001b[1;32m~\\.conda\\envs\\IRO\\Lib\\site-packages\\keras\\src\\backend\\tensorflow\\nn.py:734\u001b[0m, in \u001b[0;36msparse_categorical_crossentropy\u001b[1;34m(target, output, from_logits, axis)\u001b[0m\n\u001b[0;32m    728\u001b[0m     \u001b[38;5;28;01mraise\u001b[39;00m \u001b[38;5;167;01mValueError\u001b[39;00m(\n\u001b[0;32m    729\u001b[0m         \u001b[38;5;124m\"\u001b[39m\u001b[38;5;124mArgument `output` must be at least rank 1. \u001b[39m\u001b[38;5;124m\"\u001b[39m\n\u001b[0;32m    730\u001b[0m         \u001b[38;5;124m\"\u001b[39m\u001b[38;5;124mReceived: \u001b[39m\u001b[38;5;124m\"\u001b[39m\n\u001b[0;32m    731\u001b[0m         \u001b[38;5;124mf\u001b[39m\u001b[38;5;124m\"\u001b[39m\u001b[38;5;124moutput.shape=\u001b[39m\u001b[38;5;132;01m{\u001b[39;00moutput\u001b[38;5;241m.\u001b[39mshape\u001b[38;5;132;01m}\u001b[39;00m\u001b[38;5;124m\"\u001b[39m\n\u001b[0;32m    732\u001b[0m     )\n\u001b[0;32m    733\u001b[0m \u001b[38;5;28;01mif\u001b[39;00m \u001b[38;5;28mlen\u001b[39m(target\u001b[38;5;241m.\u001b[39mshape) \u001b[38;5;241m!=\u001b[39m \u001b[38;5;28mlen\u001b[39m(output\u001b[38;5;241m.\u001b[39mshape[:\u001b[38;5;241m-\u001b[39m\u001b[38;5;241m1\u001b[39m]):\n\u001b[1;32m--> 734\u001b[0m     \u001b[38;5;28;01mraise\u001b[39;00m \u001b[38;5;167;01mValueError\u001b[39;00m(\n\u001b[0;32m    735\u001b[0m         \u001b[38;5;124m\"\u001b[39m\u001b[38;5;124mArgument `output` must have rank (ndim) `target.ndim - 1`. \u001b[39m\u001b[38;5;124m\"\u001b[39m\n\u001b[0;32m    736\u001b[0m         \u001b[38;5;124m\"\u001b[39m\u001b[38;5;124mReceived: \u001b[39m\u001b[38;5;124m\"\u001b[39m\n\u001b[0;32m    737\u001b[0m         \u001b[38;5;124mf\u001b[39m\u001b[38;5;124m\"\u001b[39m\u001b[38;5;124mtarget.shape=\u001b[39m\u001b[38;5;132;01m{\u001b[39;00mtarget\u001b[38;5;241m.\u001b[39mshape\u001b[38;5;132;01m}\u001b[39;00m\u001b[38;5;124m, output.shape=\u001b[39m\u001b[38;5;132;01m{\u001b[39;00moutput\u001b[38;5;241m.\u001b[39mshape\u001b[38;5;132;01m}\u001b[39;00m\u001b[38;5;124m\"\u001b[39m\n\u001b[0;32m    738\u001b[0m     )\n\u001b[0;32m    739\u001b[0m \u001b[38;5;28;01mfor\u001b[39;00m e1, e2 \u001b[38;5;129;01min\u001b[39;00m \u001b[38;5;28mzip\u001b[39m(target\u001b[38;5;241m.\u001b[39mshape, output\u001b[38;5;241m.\u001b[39mshape[:\u001b[38;5;241m-\u001b[39m\u001b[38;5;241m1\u001b[39m]):\n\u001b[0;32m    740\u001b[0m     \u001b[38;5;28;01mif\u001b[39;00m e1 \u001b[38;5;129;01mis\u001b[39;00m \u001b[38;5;129;01mnot\u001b[39;00m \u001b[38;5;28;01mNone\u001b[39;00m \u001b[38;5;129;01mand\u001b[39;00m e2 \u001b[38;5;129;01mis\u001b[39;00m \u001b[38;5;129;01mnot\u001b[39;00m \u001b[38;5;28;01mNone\u001b[39;00m \u001b[38;5;129;01mand\u001b[39;00m e1 \u001b[38;5;241m!=\u001b[39m e2:\n",
      "\u001b[1;31mValueError\u001b[0m: Argument `output` must have rank (ndim) `target.ndim - 1`. Received: target.shape=(None,), output.shape=(None, 50, 4)"
     ]
    }
   ],
   "source": [
    "training_accuracy = midi_model.train()"
   ]
  },
  {
   "cell_type": "code",
   "execution_count": null,
   "id": "03a06234-f518-4198-9ff3-3d2dc7cb6051",
   "metadata": {},
   "outputs": [],
   "source": [
    "testing_accuracy = midi_model.test()"
   ]
  },
  {
   "cell_type": "code",
   "execution_count": null,
   "id": "302e7dbb-7a90-4c71-984b-69f3b427f4b6",
   "metadata": {},
   "outputs": [],
   "source": [
    "print(f'Training accuracy: {training_accuracy}')\n",
    "print(f'Testing accuracy: {testing_accuracy}')"
   ]
  },
  {
   "cell_type": "code",
   "execution_count": null,
   "id": "a47f4005-a1fb-4d0a-9324-9f0665e204ee",
   "metadata": {},
   "outputs": [],
   "source": [
    "\n"
   ]
  },
  {
   "cell_type": "code",
   "execution_count": null,
   "id": "d9a2dbec-81fb-4c3c-8434-5db1dbdb55f1",
   "metadata": {},
   "outputs": [
    {
     "name": "stderr",
     "output_type": "stream",
     "text": [
      "C:\\Users\\isral\\.conda\\envs\\IRO\\Lib\\site-packages\\pretty_midi\\pretty_midi.py:100: RuntimeWarning: Tempo, Key or Time signature change events found on non-zero tracks.  This is not a valid type 0 or type 1 MIDI file.  Tempo, Key or Time Signature may be wrong.\n",
      "  warnings.warn(\n"
     ]
    },
    {
     "name": "stdout",
     "output_type": "stream",
     "text": [
      "Batch piano_rolls shape: (64, 2400, 128)\n",
      "Batch labels: tf.Tensor(\n",
      "[0 3 1 1 0 2 2 1 2 1 3 0 1 0 0 3 0 3 1 1 0 1 2 1 3 2 3 3 0 1 0 3 0 0 3 1 2\n",
      " 3 1 1 2 3 2 0 3 0 0 2 1 1 3 0 3 0 2 1 0 0 2 2 3 1 2 2], shape=(64,), dtype=int32)\n",
      "Labels batch shape: (64,)\n",
      "Batch piano_rolls shape: (64, 2400, 128)\n",
      "Batch labels: tf.Tensor(\n",
      "[3 2 3 2 3 1 2 1 0 2 3 1 3 0 1 0 3 3 2 0 0 3 2 0 1 0 1 0 3 1 3 3 3 0 2 0 3\n",
      " 0 1 0 3 3 1 0 2 3 3 0 1 0 0 0 0 0 1 0 3 3 0 2 1 3 1 0], shape=(64,), dtype=int32)\n",
      "Labels batch shape: (64,)\n"
     ]
    }
   ],
   "source": [
    "for piano_rolls, labels in midi_model.train_dataset.take(1):\n",
    "    print('Batch piano_rolls shape:', piano_rolls.shape)  # (batch_size, seq_len, 128)\n",
    "    print('Batch labels:', labels)                        # (batch_size,)\n",
    "    print('Labels batch shape:', labels.shape)\n",
    "\n",
    "for piano_rolls, labels in midi_model.test_dataset.take(1):\n",
    "    print('Batch piano_rolls shape:', piano_rolls.shape)  # (batch_size, seq_len, 128)\n",
    "    print('Batch labels:', labels)                        # (batch_size,)\n",
    "    print('Labels batch shape:', labels.shape)\n",
    "for piano_rolls, labels in midi_model.val_dataset.take(1):\n",
    "    print('Batch piano_rolls shape:', piano_rolls.shape)  # (batch_size, seq_len, 128)\n",
    "    print('Batch labels:', labels)                        # (batch_size,)\n",
    "    print('Labels batch shape:', labels.shape)\n"
   ]
  },
  {
   "cell_type": "code",
   "execution_count": null,
   "id": "282a1ed2-2c5f-4be7-aba1-925f2f240508",
   "metadata": {},
   "outputs": [],
   "source": [
    "print(train_dataset.element_spec)\n",
    "print(test_dataset.element_spec)\n",
    "print(val_dataset.element_spec)"
   ]
  },
  {
   "cell_type": "code",
   "execution_count": null,
   "id": "33a0c2c8-6b3d-4d83-b16b-efaa041151f3",
   "metadata": {},
   "outputs": [],
   "source": [
    "sample_count = 0\n",
    "for piano_rolls, labels in val_dataset:\n",
    "    sample_count += piano_rolls.shape[0]  # Number of samples in this batch\n",
    "\n",
    "print(\"Total samples:\", sample_count)"
   ]
  },
  {
   "cell_type": "code",
   "execution_count": null,
   "id": "bdc9c906-f039-42d7-b5db-cadba798b2f0",
   "metadata": {},
   "outputs": [],
   "source": []
  }
 ],
 "metadata": {
  "kernelspec": {
   "display_name": "Python 3 (ipykernel)",
   "language": "python",
   "name": "python3"
  },
  "language_info": {
   "codemirror_mode": {
    "name": "ipython",
    "version": 3
   },
   "file_extension": ".py",
   "mimetype": "text/x-python",
   "name": "python",
   "nbconvert_exporter": "python",
   "pygments_lexer": "ipython3",
   "version": "3.12.3"
  }
 },
 "nbformat": 4,
 "nbformat_minor": 5
}
